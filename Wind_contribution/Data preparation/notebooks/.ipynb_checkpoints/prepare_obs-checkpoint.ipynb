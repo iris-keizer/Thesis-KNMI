{
 "cells": [
  {
   "cell_type": "markdown",
   "metadata": {},
   "source": [
    "# Calculate wind stress and annual averages of observational wind data\n",
    "\n",
    "Notebook to preprocess the observational data for the regression analysis between the wind/pressure and sea level data.\n",
    "\n",
    "The downloaded data is used to obtain annual averages, remove unnecessary variables, select areas, calculate the wind forcing, correct time periods and merge datasets.\n",
    "\n",
    "\n",
    "The wind forcing is calculated by multiplying the wind speed with the absolute value\n",
    "\n",
    "wind data from the ERA5 reanalysis is obtained from:\n",
    "\n",
    "1950 - 1978:  https://cds.climate.copernicus.eu/cdsapp#!/dataset/reanalysis-era5-single-levels-monthly-means-preliminary-back-extension?tab=overview\n",
    "\n",
    "1979 - present: https://cds.climate.copernicus.eu/cdsapp#!/dataset/reanalysis-era5-single-levels-monthly-means?tab=overview\n",
    "\n",
    "\n",
    "\n",
    "Wind data from the 20th century reanalysis: https://psl.noaa.gov/data/gridded/data.20thC_ReanV3.monolevel.html#caveat"
   ]
  },
  {
   "cell_type": "code",
   "execution_count": 1,
   "metadata": {},
   "outputs": [],
   "source": [
    "%load_ext autoreload\n",
    "%autoreload 2\n",
    "\n",
    "import sys\n",
    "sys.path.append('/Users/iriskeizer/Projects/ClimatePhysics/Thesis/Github/Thesis-KNMI/Wind_contribution/Data preparation/code')\n",
    "\n",
    "\n",
    "import prepare_data as prep"
   ]
  },
  {
   "cell_type": "markdown",
   "metadata": {},
   "source": [
    "#### Import and calculate wind stress and annual averages of ERA5 data"
   ]
  },
  {
   "cell_type": "code",
   "execution_count": 16,
   "metadata": {},
   "outputs": [],
   "source": [
    "wind_data_era5 = prep.prep_wind_data_obs()"
   ]
  },
  {
   "cell_type": "markdown",
   "metadata": {},
   "source": [
    "#### Import and calculate annual averages of 20th century reanalysis data"
   ]
  },
  {
   "cell_type": "code",
   "execution_count": 18,
   "metadata": {},
   "outputs": [],
   "source": [
    "wind_data_20cr = prep.prep_wind_data_obs(data_type='20cr')"
   ]
  },
  {
   "cell_type": "markdown",
   "metadata": {},
   "source": [
    "# Calculate annual averages of observational pressure data\n",
    "\n",
    "This second part of the notebook has the aim to process observational pressure data such that it can be used for analysis.\n",
    "This includes calculating annual averages, removing not needed variables, selecting smaller areas, correct time periods and merging datasets that should be merged. \n",
    "\n",
    "\n",
    "Pressure data from the ERA5 reanalysis.\n",
    "\n",
    "1950 - 1978:  https://cds.climate.copernicus.eu/cdsapp#!/dataset/reanalysis-era5-single-levels-monthly-means-preliminary-back-extension?tab=form\n",
    "\n",
    "1979 - present: https://cds.climate.copernicus.eu/cdsapp#!/dataset/reanalysis-era5-single-levels-monthly-means?tab=form\n",
    "\n",
    "\n",
    "\n",
    "Pressure data from the 20th century reanalysis: https://psl.noaa.gov/data/gridded/data.20thC_ReanV3.monolevel.html#caveat"
   ]
  },
  {
   "cell_type": "code",
   "execution_count": 20,
   "metadata": {},
   "outputs": [
    {
     "name": "stdout",
     "output_type": "stream",
     "text": [
      "The autoreload extension is already loaded. To reload it, use:\n",
      "  %reload_ext autoreload\n"
     ]
    }
   ],
   "source": [
    "%load_ext autoreload\n",
    "%autoreload 2\n",
    "\n",
    "import sys\n",
    "sys.path.append('/Users/iriskeizer/Projects/ClimatePhysics/Thesis/Github/Thesis-KNMI/Wind_contribution/Data preparation/code')\n",
    "\n",
    "\n",
    "import prepare_data as prep"
   ]
  },
  {
   "cell_type": "markdown",
   "metadata": {},
   "source": [
    "### Import and calculate annual averages of ERA5 reanalysis data of pressure fields"
   ]
  },
  {
   "cell_type": "code",
   "execution_count": 21,
   "metadata": {},
   "outputs": [],
   "source": [
    "pres_data_era5 = prep.prep_pres_data_obs()"
   ]
  },
  {
   "cell_type": "markdown",
   "metadata": {},
   "source": [
    "### Import and calculate annual averages of 20th century reanalysis data of pressure fields"
   ]
  },
  {
   "cell_type": "code",
   "execution_count": 23,
   "metadata": {},
   "outputs": [],
   "source": [
    "pres_data_20cr = prep.prep_pres_data_obs(data_type = '20cr')"
   ]
  },
  {
   "cell_type": "markdown",
   "metadata": {},
   "source": [
    "# Import tide gauge sea level data and store as a netcdf file\n",
    "\n",
    "The final part of the notebook has the aim to process observational pressure data such that it can be used for analysis.\n",
    "This includes \n",
    "\n",
    "\n",
    "Tide gauge data is downloaded from:\n",
    "\n",
    "https://www.psmsl.org\n"
   ]
  },
  {
   "cell_type": "code",
   "execution_count": 1,
   "metadata": {},
   "outputs": [],
   "source": [
    "%load_ext autoreload\n",
    "%autoreload 2\n",
    "\n",
    "import sys\n",
    "sys.path.append('/Users/iriskeizer/Projects/ClimatePhysics/Thesis/Github/Thesis-KNMI/Wind_contribution/Data preparation/code')\n",
    "\n",
    "\n",
    "import prepare_data as prep%load_ext autoreload\n",
    "%autoreload 2\n",
    "\n",
    "from code import prepare_data as prep"
   ]
  },
  {
   "cell_type": "code",
   "execution_count": 4,
   "metadata": {},
   "outputs": [],
   "source": [
    "tg_data_df, tg_data_xr = prep.prep_tg_data_obs()"
   ]
  },
  {
   "cell_type": "code",
   "execution_count": null,
   "metadata": {},
   "outputs": [],
   "source": []
  }
 ],
 "metadata": {
  "kernelspec": {
   "display_name": "Python 3 (ipykernel)",
   "language": "python",
   "name": "python3"
  },
  "language_info": {
   "codemirror_mode": {
    "name": "ipython",
    "version": 3
   },
   "file_extension": ".py",
   "mimetype": "text/x-python",
   "name": "python",
   "nbconvert_exporter": "python",
   "pygments_lexer": "ipython3",
   "version": "3.9.7"
  }
 },
 "nbformat": 4,
 "nbformat_minor": 4
}
