{
 "cells": [
  {
   "cell_type": "markdown",
   "metadata": {},
   "source": [
    "#### Creating one dataset of the piControl data \n",
    "\n",
    "Running all cells in this notebook would load all piControl data and store it as one dataset. "
   ]
  },
  {
   "cell_type": "code",
   "execution_count": 1,
   "metadata": {},
   "outputs": [],
   "source": [
    "# Load necessary packages\n",
    "import xarray as xr\n",
    "import glob\n",
    "import numpy as np"
   ]
  },
  {
   "cell_type": "code",
   "execution_count": 2,
   "metadata": {},
   "outputs": [],
   "source": [
    "# Define path to cmip6 data\n",
    "data_dir = '/Volumes/Iris 300 GB/CMIP6'"
   ]
  },
  {
   "cell_type": "code",
   "execution_count": 3,
   "metadata": {},
   "outputs": [],
   "source": [
    "# For 'var' choose ['zos',  'vas', 'uas', 'tos', 'ps'] which are respectively \n",
    "# sea level height, meridional wind, zonal wind, sea surface temperature, pressure at sea surface\n",
    "var = 'zos'"
   ]
  },
  {
   "cell_type": "code",
   "execution_count": 4,
   "metadata": {},
   "outputs": [],
   "source": [
    "piControl = []\n",
    "# Open each file in the directory \n",
    "for file in glob.glob(f'/Volumes/Iris 300 GB/CMIP6/cmip6_{var}_piControl/*'):\n",
    "    piControl.append(xr.open_dataset(file))"
   ]
  },
  {
   "cell_type": "code",
   "execution_count": null,
   "metadata": {},
   "outputs": [],
   "source": [
    "data = xr.merge(piControl, combine_attrs='override')"
   ]
  },
  {
   "cell_type": "code",
   "execution_count": null,
   "metadata": {},
   "outputs": [],
   "source": [
    "data.to_netcdf(f'/Volumes/Iris 300 GB/CMIP6/cmip6_{var}_piControl/cmip6_{var}_piControl_all_models.nc', format='NETCDF4')"
   ]
  },
  {
   "cell_type": "code",
   "execution_count": null,
   "metadata": {},
   "outputs": [],
   "source": []
  }
 ],
 "metadata": {
  "kernelspec": {
   "display_name": "Python 3",
   "language": "python",
   "name": "python3"
  },
  "language_info": {
   "codemirror_mode": {
    "name": "ipython",
    "version": 3
   },
   "file_extension": ".py",
   "mimetype": "text/x-python",
   "name": "python",
   "nbconvert_exporter": "python",
   "pygments_lexer": "ipython3",
   "version": "3.8.5"
  }
 },
 "nbformat": 4,
 "nbformat_minor": 4
}
