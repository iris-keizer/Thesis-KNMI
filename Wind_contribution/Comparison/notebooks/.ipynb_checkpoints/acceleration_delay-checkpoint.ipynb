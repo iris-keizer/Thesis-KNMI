{
 "cells": [
  {
   "cell_type": "markdown",
   "id": "61f797b7-4923-477c-95cc-d592c826ed5b",
   "metadata": {},
   "source": [
    "#### Notebook to analyse the delay in observed acceleration of sea level\n",
    "\n",
    "I think what I would do in this case is gradually expand the time series from t=19xx towards 19xx+1 etc and calculate after adding a single year whether in a least square fitting approach the acceleration term is significant and remains significant after adding new years. Repeat this for the time serie without the wind effect and look at the difference between the two results and consider that as the delay. Probably you have too much noise in this procedure so I guess filtering a bit is needed. I suspect it will learn you in the end whether the delay is 5,10,20 or  40 years or something like that which seems a useful number for the discussions with Fedor and co."
   ]
  },
  {
   "cell_type": "code",
   "execution_count": null,
   "id": "9a0fb82a-e236-4caa-92f1-21791c1b844f",
   "metadata": {},
   "outputs": [],
   "source": [
    "# import neze"
   ]
  }
 ],
 "metadata": {
  "kernelspec": {
   "display_name": "thesis",
   "language": "python",
   "name": "thesis"
  },
  "language_info": {
   "codemirror_mode": {
    "name": "ipython",
    "version": 3
   },
   "file_extension": ".py",
   "mimetype": "text/x-python",
   "name": "python",
   "nbconvert_exporter": "python",
   "pygments_lexer": "ipython3",
   "version": "3.9.7"
  }
 },
 "nbformat": 4,
 "nbformat_minor": 5
}
