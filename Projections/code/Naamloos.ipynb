{
 "cells": [
  {
   "cell_type": "code",
   "execution_count": null,
   "id": "6df9faca-8ba8-4b2c-add6-b850e1def2b6",
   "metadata": {},
   "outputs": [],
   "source": []
  },
  {
   "cell_type": "markdown",
   "id": "563aaa06-1043-4c83-8549-dffc6784b95e",
   "metadata": {},
   "source": [
    "#### Check projection MRI-ESM2-0"
   ]
  },
  {
   "cell_type": "markdown",
   "id": "e8d3a8db-6ee0-494f-8abd-d91515fc5bb8",
   "metadata": {},
   "source": [
    "#### NearestPoint"
   ]
  },
  {
   "cell_type": "code",
   "execution_count": null,
   "id": "f50b8a31-2e5c-495e-94b9-ece75c79effe",
   "metadata": {},
   "outputs": [],
   "source": [
    "wind_245_me0 = imprt.import_cmip6_wind_data(data_type = 'ssp245').sel(model = 'MRI-ESM2-0', drop = True)\n",
    "wind_370_me0 = imprt.import_cmip6_wind_data(data_type = 'ssp370').sel(model = 'MRI-ESM2-0', drop = True)\n",
    "wind_hist_me0 = imprt.import_cmip6_wind_data(data_type = 'historical').sel(model = 'MRI-ESM2-0', drop = True)\n",
    "\n",
    "wind_245_eevl = imprt.import_cmip6_wind_data(data_type = 'ssp245').sel(model = 'EC-Earth3-Veg-LR', drop = True)\n",
    "wind_370_eevl = imprt.import_cmip6_wind_data(data_type = 'ssp370').sel(model = 'EC-Earth3-Veg-LR', drop = True)\n",
    "wind_hist_eevl = imprt.import_cmip6_wind_data(data_type = 'historical').sel(model = 'EC-Earth3-Veg-LR', drop = True)"
   ]
  },
  {
   "cell_type": "code",
   "execution_count": null,
   "id": "2e41d437-7219-4ca7-bd8e-a04a3ba32211",
   "metadata": {},
   "outputs": [],
   "source": [
    "# Create dataframe\n",
    "wind_245_me0_np = wind_245_me0.to_pandas()\n",
    "wind_370_me0_np = wind_370_me0.to_pandas()\n",
    "wind_hist_me0_np = wind_hist_me0.to_pandas()\n",
    "\n",
    "wind_245_eevl_np = wind_245_eevl.to_pandas()\n",
    "wind_370_eevl_np = wind_370_eevl.to_pandas()\n",
    "wind_hist_eevl_np = wind_hist_eevl.to_pandas()"
   ]
  },
  {
   "cell_type": "markdown",
   "id": "99f34cdf-5433-4227-ab26-c34f871a39fb",
   "metadata": {},
   "source": [
    "##### Plot original historical and projected wind data"
   ]
  },
  {
   "cell_type": "code",
   "execution_count": null,
   "id": "4fc4c88a-1f78-48c3-8771-35440b38dd0b",
   "metadata": {},
   "outputs": [],
   "source": [
    "import matplotlib.pyplot as plt\n",
    "\n",
    "fig, axs = plt.subplots(1, 2, figsize = (12, 3))\n",
    "ax = axs[0]\n",
    "ax\n",
    "ax.plot(wind_245_me0_np.index, wind_245_me0_np['u2'])\n",
    "ax.plot(wind_370_me0_np.index, wind_370_me0_np['u2'])\n",
    "ax.plot(wind_hist_me0_np.index, wind_hist_me0_np['u2'], color = 'grey')\n",
    "ax.legend(labels = ['ssp245', 'ssp370', 'historical'], loc = 'upper left')\n",
    "ax.set_ylabel('u$^2$ [m$^2$/s$^2$]')\n",
    "ax.set_xlabel('time [y]')\n",
    "ax.set_xlim(1980, 2102)\n",
    "ax.grid(True)\n",
    "ax.set_title('Original zonal wind stress data \\n wind model = NearestPoint \\n cmip6 model = MRI-ESM2-0')\n",
    "\n",
    "ax = axs[1]\n",
    "ax.plot(wind_245_me0_np.index, wind_245_me0_np['v2'])\n",
    "ax.plot(wind_370_me0_np.index, wind_370_me0_np['v2'])\n",
    "ax.plot(wind_hist_me0_np.index, wind_hist_me0_np['v2'], color = 'grey')\n",
    "ax.legend(labels = ['ssp245', 'ssp370', 'historical'], loc = 'upper left')\n",
    "ax.set_ylabel('v$^2$ [m$^2$/s$^2$]')\n",
    "ax.set_xlabel('time [y]')\n",
    "ax.set_xlim(1980, 2102)\n",
    "ax.grid(True)\n",
    "ax.set_title('Original meridional wind stress data \\n wind model = NearestPoint \\n cmip6 model = MRI-ESM2-0')"
   ]
  },
  {
   "cell_type": "code",
   "execution_count": null,
   "id": "ea86b05c-ff02-412a-ac4c-94b4cd205694",
   "metadata": {},
   "outputs": [],
   "source": [
    "import matplotlib.pyplot as plt\n",
    "\n",
    "fig, axs = plt.subplots(1, 2, figsize = (12, 3))\n",
    "ax = axs[0]\n",
    "ax\n",
    "ax.plot(wind_245_eevl_np.index, wind_245_eevl_np['u2'])\n",
    "ax.plot(wind_370_eevl_np.index, wind_370_eevl_np['u2'])\n",
    "ax.plot(wind_hist_eevl_np.index, wind_hist_eevl_np['u2'], color = 'grey')\n",
    "ax.legend(labels = ['ssp245', 'ssp370', 'historical'], loc = 'upper left')\n",
    "ax.set_ylabel('u$^2$ [m$^2$/s$^2$]')\n",
    "ax.set_xlabel('time [y]')\n",
    "ax.set_xlim(1980, 2102)\n",
    "ax.grid(True)\n",
    "ax.set_title('Original zonal wind stress data \\n wind model = NearestPoint \\n cmip6 model = EC-Earth3-Veg-LR')\n",
    "\n",
    "ax = axs[1]\n",
    "ax.plot(wind_245_eevl_np.index, wind_245_eevl_np['v2'])\n",
    "ax.plot(wind_370_eevl_np.index, wind_370_eevl_np['v2'])\n",
    "ax.plot(wind_hist_eevl_np.index, wind_hist_eevl_np['v2'], color = 'grey')\n",
    "ax.legend(labels = ['ssp245', 'ssp370', 'historical'], loc = 'upper left')\n",
    "ax.set_ylabel('v$^2$ [m$^2$/s$^2$]')\n",
    "ax.set_xlabel('time [y]')\n",
    "ax.set_xlim(1980, 2102)\n",
    "ax.grid(True)\n",
    "ax.set_title('Original meridional wind stress data \\n wind model = NearestPoint \\n cmip6 model = EC-Earth3-Veg-LR')"
   ]
  },
  {
   "cell_type": "markdown",
   "id": "87e37cd0-e9ec-41b6-991a-03b5bc909627",
   "metadata": {},
   "source": [
    "Difference: for MRI-ESM2-0 there is a jump between the historical period and scenarios, for EC-Earth3-Veg-LR this is not the case for ssp370 but it is for ssp245"
   ]
  },
  {
   "cell_type": "code",
   "execution_count": null,
   "id": "c67c1b83-9128-4a35-8fd8-76fc4ff9d35c",
   "metadata": {},
   "outputs": [],
   "source": [
    "import pandas as pd\n",
    "model = 'NearestPoint'\n",
    "\n",
    "# Import regression coefficients\n",
    "path_reg_results = '/Users/iriskeizer/Projects/ClimatePhysics/Thesis/Data/cmip6/Regression results/Projections/'\n",
    "results_np = pd.read_csv(path_reg_results + f'{model}_results.csv', index_col = 'result')\n",
    "\n",
    "# Select models\n",
    "results_me0_np = results_np['MRI-ESM2-0']\n",
    "results_eevl_np = results_np['EC-Earth3-Veg-LR']"
   ]
  },
  {
   "cell_type": "code",
   "execution_count": null,
   "id": "2b6f9d84-4db6-4bea-abbd-d9fe86e6efd8",
   "metadata": {},
   "outputs": [],
   "source": [
    "import pickle\n",
    "\n",
    "\n",
    "wm = 'NearestPoint'\n",
    "\n",
    "# Import scalers for standardization\n",
    "file = open(f'/Users/iriskeizer/Projects/ClimatePhysics/Thesis/Data/cmip6/Regression results/Projections/scalers_{wm}.pkl', \"rb\")\n",
    "scaler = pickle.load(file)['MRI-ESM2-0']\n",
    "\n",
    "df = pd.DataFrame({'time':wind_245_me0_np.index.values})\n",
    "df = df.set_index('time')\n",
    "df_wc = df.copy()\n",
    "df_ssp245_me0 = df.copy()\n",
    "df_ssp370_me0 = df.copy()\n",
    "\n",
    "df_hist_me0 = pd.DataFrame({'time':wind_hist_me0_np.index.values})\n",
    "df_hist_me0 = df_hist_me0.set_index('time')\n",
    "\n",
    "# Standardize historical data\n",
    "df_hist_me0['u2'] = wind_hist_me0_np['u2'].values\n",
    "df_hist_me0['v2'] = wind_hist_me0_np['v2'].values\n",
    "df_hist_me0.iloc[:,:] = scaler.fit_transform(df_hist_me0)\n",
    "\n",
    "\n",
    "constant = results_me0_np['constant']\n",
    "\n",
    "u2_coef = results_me0_np['u$^2$']\n",
    "v2_coef = results_me0_np['v$^2$']\n",
    "\n",
    "\n",
    "# ssp245\n",
    "df_ssp245_me0['u2'] = wind_245_me0_np['u2'].values\n",
    "df_ssp245_me0['v2'] = wind_245_me0_np['v2'].values\n",
    "\n",
    "# Standardize dataframe\n",
    "df_ssp245_me0.iloc[:,:] = scaler.fit_transform(df_ssp245_me0)\n",
    "\n",
    "wind_contr = constant + (u2_coef * df_ssp245_me0['u2']) + (v2_coef * df_ssp245_me0['v2'])\n",
    "            \n",
    "df_wc['ssp245'] = wind_contr\n",
    "\n",
    "# ssp370\n",
    "df_ssp370_me0['u2'] = wind_370_me0_np['u2'].values\n",
    "df_ssp370_me0['v2'] = wind_370_me0_np['v2'].values\n",
    "\n",
    "# Standardize dataframe\n",
    "df_ssp370_me0.iloc[:,:] = scaler.fit_transform(df_ssp370_me0)\n",
    "\n",
    "wind_contr = constant + (u2_coef * df_ssp370_me0['u2']) + (v2_coef * df_ssp370_me0['v2'])\n",
    "            \n",
    "df_wc['ssp370'] = wind_contr\n",
    "\n",
    "df_wc_me0 = df_wc.copy()"
   ]
  },
  {
   "cell_type": "code",
   "execution_count": null,
   "id": "fbdd36e3-0d2d-47cc-8f0e-e804a2e386f4",
   "metadata": {},
   "outputs": [],
   "source": [
    "import pickle\n",
    "\n",
    "\n",
    "wm = 'NearestPoint'\n",
    "\n",
    "# Import scalers for standardization\n",
    "file = open(f'/Users/iriskeizer/Projects/ClimatePhysics/Thesis/Data/cmip6/Regression results/Projections/scalers_{wm}.pkl', \"rb\")\n",
    "scaler = pickle.load(file)['EC-Earth3-Veg-LR']\n",
    "\n",
    "df = pd.DataFrame({'time':wind_245_eevl_np.index.values})\n",
    "df = df.set_index('time')\n",
    "df_wc = df.copy()\n",
    "df_ssp245_eevl = df.copy()\n",
    "df_ssp370_eevl = df.copy()\n",
    "\n",
    "df_hist_eevl = pd.DataFrame({'time':wind_hist_eevl_np.index.values})\n",
    "df_hist_eevl = df_hist_eevl.set_index('time')\n",
    "\n",
    "# Standardize historical data\n",
    "df_hist_eevl['u2'] = wind_hist_eevl_np['u2'].values\n",
    "df_hist_eevl['v2'] = wind_hist_eevl_np['v2'].values\n",
    "df_hist_eevl.iloc[:,:] = scaler.fit_transform(df_hist_eevl)\n",
    "\n",
    "\n",
    "constant = results_eevl_np['constant']\n",
    "\n",
    "u2_coef = results_eevl_np['u$^2$']\n",
    "v2_coef = results_eevl_np['v$^2$']\n",
    "\n",
    "\n",
    "# ssp245\n",
    "df_ssp245_eevl['u2'] = wind_245_eevl_np['u2'].values\n",
    "df_ssp245_eevl['v2'] = wind_245_eevl_np['v2'].values\n",
    "\n",
    "# Standardize dataframe\n",
    "df_ssp245_eevl.iloc[:,:] = scaler.fit_transform(df_ssp245_eevl)\n",
    "\n",
    "wind_contr = constant + (u2_coef * df_ssp245_eevl['u2']) + (v2_coef * df_ssp245_eevl['v2'])\n",
    "            \n",
    "df_wc['ssp245'] = wind_contr\n",
    "\n",
    "# ssp370\n",
    "df_ssp370_eevl['u2'] = wind_370_eevl_np['u2'].values\n",
    "df_ssp370_eevl['v2'] = wind_370_eevl_np['v2'].values\n",
    "\n",
    "# Standardize dataframe\n",
    "df_ssp370_eevl.iloc[:,:] = scaler.fit_transform(df_ssp370_eevl)\n",
    "\n",
    "wind_contr = constant + (u2_coef * df_ssp370_eevl['u2']) + (v2_coef * df_ssp370_eevl['v2'])\n",
    "            \n",
    "df_wc['ssp370'] = wind_contr\n",
    "\n",
    "df_wc_eevl = df_wc.copy()"
   ]
  },
  {
   "cell_type": "markdown",
   "id": "b7c95ff2-b22c-4fc6-bb99-5c40850c6d12",
   "metadata": {
    "tags": []
   },
   "source": [
    "##### Plot standardized historical and projected wind data"
   ]
  },
  {
   "cell_type": "code",
   "execution_count": null,
   "id": "df131dd7-a08e-43a1-9839-17cf02a57ef6",
   "metadata": {},
   "outputs": [],
   "source": [
    "import matplotlib.pyplot as plt\n",
    "\n",
    "fig, axs = plt.subplots(1, 2, figsize = (12, 3))\n",
    "ax = axs[0]\n",
    "ax\n",
    "ax.plot(df_ssp245_me0.index, df_ssp245_me0['u2'])\n",
    "ax.plot(df_ssp370_me0.index, df_ssp370_me0['u2'])\n",
    "ax.plot(df_hist_me0.index, df_hist_me0['u2'], color = 'grey')\n",
    "ax.legend(labels = ['ssp245', 'ssp370', 'historical'], loc = 'upper left')\n",
    "ax.set_ylabel('u$^2$ [m$^2$/s$^2$]')\n",
    "ax.set_xlabel('time [y]')\n",
    "ax.set_ylim(-2,5)\n",
    "ax.set_xlim(1980, 2102)\n",
    "ax.grid(True)\n",
    "ax.set_title('Standardized zonal wind stress data NearestPoint \\n cmip6 model = MRI-ESM2-0')\n",
    "\n",
    "ax = axs[1]\n",
    "ax.plot(df_ssp245_me0.index, df_ssp245_me0['v2'])\n",
    "ax.plot(df_ssp370_me0.index, df_ssp370_me0['v2'])\n",
    "ax.plot(df_hist_me0.index, df_hist_me0['v2'], color = 'grey')\n",
    "ax.legend(labels = ['ssp245', 'ssp370', 'historical'], loc = 'upper left')\n",
    "ax.set_ylabel('v$^2$ [m$^2$/s$^2$]')\n",
    "ax.set_xlabel('time [y]')\n",
    "ax.set_ylim(-2,5)\n",
    "ax.set_xlim(1980, 2102)\n",
    "ax.grid(True)\n",
    "ax.set_title('Standardized meridional wind stress data NearestPoint \\n cmip6 model = MRI-ESM2-0')\n",
    "\n",
    "\n",
    "fig, axs = plt.subplots(1, 2, figsize = (12, 3))\n",
    "ax = axs[0]\n",
    "ax\n",
    "ax.plot(df_ssp245_eevl.index, df_ssp245_eevl['u2'])\n",
    "ax.plot(df_ssp370_eevl.index, df_ssp370_eevl['u2'])\n",
    "ax.plot(df_hist_eevl.index, df_hist_eevl['u2'], color = 'grey')\n",
    "ax.legend(labels = ['ssp245', 'ssp370', 'historical'], loc = 'upper left')\n",
    "ax.set_ylabel('u$^2$ [m$^2$/s$^2$]')\n",
    "ax.set_xlabel('time [y]')\n",
    "ax.set_ylim(-2,5)\n",
    "ax.set_xlim(1980, 2102)\n",
    "ax.grid(True)\n",
    "ax.set_title('Standardized zonal wind stress data NearestPoint \\n cmip6 model = EC-Earth3-Veg-LR')\n",
    "\n",
    "ax = axs[1]\n",
    "ax.plot(df_ssp245_eevl.index, df_ssp245_eevl['v2'])\n",
    "ax.plot(df_ssp370_eevl.index, df_ssp370_eevl['v2'])\n",
    "ax.plot(df_hist_eevl.index, df_hist_eevl['v2'], color = 'grey')\n",
    "ax.legend(labels = ['ssp245', 'ssp370', 'historical'], loc = 'upper left')\n",
    "ax.set_ylabel('v$^2$ [m$^2$/s$^2$]')\n",
    "ax.set_xlabel('time [y]')\n",
    "ax.set_ylim(-2,5)\n",
    "ax.set_xlim(1980, 2102)\n",
    "ax.grid(True)\n",
    "ax.set_title('Standardized meridional wind stress data NearestPoint \\n cmip6 model = EC-Earth3-Veg-LR')"
   ]
  },
  {
   "cell_type": "markdown",
   "id": "91b3bf29-1925-40cb-bddf-f41637920874",
   "metadata": {
    "tags": []
   },
   "source": [
    "##### Plot historical and projected wind contribution to mean sea level"
   ]
  },
  {
   "cell_type": "code",
   "execution_count": null,
   "id": "329a638b-765f-4c38-b101-a48c6410ef76",
   "metadata": {},
   "outputs": [],
   "source": [
    "# Open data file\n",
    "wind_contr_hist_me0_np = imprt.import_cmip6_wind_contribution_data().sel(model = 'MRI-ESM2-0', drop = True).wind_total\n",
    "wind_contr_hist_eevl_np = imprt.import_cmip6_wind_contribution_data().sel(model = 'EC-Earth3-Veg-LR', drop = True).wind_total\n",
    "\n",
    "\n",
    "# Create dataframe\n",
    "wind_contr_hist_me0_np = wind_contr_hist_me0_np.to_pandas()\n",
    "wind_contr_hist_eevl_np = wind_contr_hist_eevl_np.to_pandas()"
   ]
  },
  {
   "cell_type": "code",
   "execution_count": null,
   "id": "ba1ed2fe-dbc9-4e4c-986a-c88a77356b71",
   "metadata": {},
   "outputs": [],
   "source": [
    "df_all_me0 = pd.concat([wind_contr_hist_me0_np, df_wc_me0])\n",
    "df_all_me0 = df_all_me0.rename(columns = {0:'historical'})\n",
    "\n",
    "df_all_eevl = pd.concat([wind_contr_hist_eevl_np, df_wc_eevl])\n",
    "df_all_eevl = df_all_eevl.rename(columns = {0:'historical'})\n",
    "\n",
    "df_all_me0.plot(figsize = (9,3))\n",
    "plt.ylabel('Wind contribution to mean sea level [cm]\\n cmip6 model = MRI-ESM2-0')\n",
    "plt.xlabel('time [y]')\n",
    "\n",
    "\n",
    "\n",
    "df_all_eevl.plot(figsize = (9,3))\n",
    "plt.ylabel('Wind contribution to mean sea level [cm]\\n cmip6 model = EC-Earth3-Veg-LR')\n",
    "plt.xlabel('time [y]')"
   ]
  },
  {
   "cell_type": "code",
   "execution_count": null,
   "id": "0de3b5e6-38f8-47d4-88cd-acf52a581df5",
   "metadata": {},
   "outputs": [],
   "source": []
  },
  {
   "cell_type": "markdown",
   "id": "10747fc2-66b0-4410-8045-181a813bbc00",
   "metadata": {},
   "source": [
    "#### Calculate the trend for different periods"
   ]
  },
  {
   "cell_type": "code",
   "execution_count": null,
   "id": "4b9c0580-0bc7-4420-a687-96024bcbdb9c",
   "metadata": {},
   "outputs": [],
   "source": [
    "scenarios_np, scenarios_tim, scenarios_da"
   ]
  },
  {
   "cell_type": "code",
   "execution_count": null,
   "id": "dc1e501f-2d58-41b3-9a23-b3ac975028ba",
   "metadata": {},
   "outputs": [],
   "source": [
    "wind_contr_hist_np, wind_contr_hist_tim, wind_contr_hist_da"
   ]
  },
  {
   "cell_type": "code",
   "execution_count": null,
   "id": "2d424cfa-8a5a-4f3e-8810-beee7263ab94",
   "metadata": {},
   "outputs": [],
   "source": [
    "scenarios_np[0]"
   ]
  },
  {
   "cell_type": "code",
   "execution_count": null,
   "id": "3869bd1f-7af8-4c8f-a94f-f20a8202a18c",
   "metadata": {},
   "outputs": [],
   "source": [
    "wind_contr_hist_np"
   ]
  },
  {
   "cell_type": "code",
   "execution_count": null,
   "id": "c3640073-af16-47dc-bd58-622fe2353a1d",
   "metadata": {},
   "outputs": [],
   "source": [
    "wind_contr_ssp119_np = pd.concat([wind_contr_hist_np, scenarios_np[0]]).dropna(axis=1)"
   ]
  },
  {
   "cell_type": "code",
   "execution_count": null,
   "id": "67995c5c-70dc-41c0-94b3-ff0e5dfbc762",
   "metadata": {},
   "outputs": [],
   "source": [
    "wind_contr_ssp119_np.plot()"
   ]
  },
  {
   "cell_type": "code",
   "execution_count": null,
   "id": "4d03c497-3e3c-4ed9-8b50-e45291c16db0",
   "metadata": {},
   "outputs": [],
   "source": []
  }
 ],
 "metadata": {
  "kernelspec": {
   "display_name": "thesis",
   "language": "python",
   "name": "thesis"
  },
  "language_info": {
   "codemirror_mode": {
    "name": "ipython",
    "version": 3
   },
   "file_extension": ".py",
   "mimetype": "text/x-python",
   "name": "python",
   "nbconvert_exporter": "python",
   "pygments_lexer": "ipython3",
   "version": "3.9.7"
  }
 },
 "nbformat": 4,
 "nbformat_minor": 5
}
