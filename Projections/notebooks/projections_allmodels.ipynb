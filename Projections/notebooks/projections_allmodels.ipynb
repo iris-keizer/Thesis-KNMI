{
 "cells": [
  {
   "cell_type": "markdown",
   "metadata": {},
   "source": [
    "## Notebook to start making projections over the twenty first century\n",
    "\n",
    "\n",
    "This notebook is used to make projections of the wind influence on sea level rise in the 21th century. \n",
    "\n",
    "\n",
    "\n",
    "From the regression between zos and vas/uas (cmip6 data) the regression coefficients are used to make predictions into the 21st century (files: nearby_wind_regression_cmip6, timmerman_regression_cmip6, dangendorf_regression_cmip6). Only models are used that perform well according to spectral analysis (file: comparison). \n",
    "\n",
    "\n",
    "Currently, the analysed scenarios are 2.6, 4.5 and 8.5"
   ]
  },
  {
   "cell_type": "code",
   "execution_count": 1,
   "metadata": {},
   "outputs": [],
   "source": [
    "%load_ext autoreload\n",
    "%autoreload 2\n",
    "\n",
    "import sys\n",
    "sys.path.append('/Users/iriskeizer/Projects/ClimatePhysics/Thesis/Github/Thesis-KNMI/Projections/code')\n",
    "\n",
    "import import_data as imprt\n",
    "import projections as proj\n",
    "import figures as fig\n",
    "\n",
    "sce_labels = ['ssp126', 'ssp245', 'ssp585']\n",
    "sce_names = ['SSP1-2.6', 'SSP2-4.5', 'SSP5-8.5']\n",
    "use_models = 'allmodels'\n"
   ]
  },
  {
   "cell_type": "markdown",
   "metadata": {},
   "source": [
    "#### Import zos data"
   ]
  },
  {
   "cell_type": "code",
   "execution_count": 2,
   "metadata": {},
   "outputs": [],
   "source": [
    "# Open data file\n",
    "zos_126 = imprt.import_cmip6_slh_data(data_type = 'ssp126', use_models = use_models)\n",
    "zos_245 = imprt.import_cmip6_slh_data(data_type = 'ssp245', use_models = use_models)\n",
    "zos_585 = imprt.import_cmip6_slh_data(data_type = 'ssp585', use_models = use_models)"
   ]
  },
  {
   "cell_type": "code",
   "execution_count": 3,
   "metadata": {},
   "outputs": [
    {
     "data": {
      "text/html": [
       "<div>\n",
       "<style scoped>\n",
       "    .dataframe tbody tr th:only-of-type {\n",
       "        vertical-align: middle;\n",
       "    }\n",
       "\n",
       "    .dataframe tbody tr th {\n",
       "        vertical-align: top;\n",
       "    }\n",
       "\n",
       "    .dataframe thead th {\n",
       "        text-align: right;\n",
       "    }\n",
       "</style>\n",
       "<table border=\"1\" class=\"dataframe\">\n",
       "  <thead>\n",
       "    <tr style=\"text-align: right;\">\n",
       "      <th>model</th>\n",
       "      <th>ACCESS-CM2</th>\n",
       "      <th>ACCESS-ESM1-5</th>\n",
       "      <th>BCC-CSM2-MR</th>\n",
       "      <th>CAMS-CSM1-0</th>\n",
       "      <th>CAS-ESM2-0</th>\n",
       "      <th>CMCC-CM2-SR5</th>\n",
       "      <th>CMCC-ESM2</th>\n",
       "      <th>CNRM-CM6-1</th>\n",
       "      <th>CNRM-ESM2-1</th>\n",
       "      <th>CanESM5</th>\n",
       "      <th>...</th>\n",
       "      <th>INM-CM4-8</th>\n",
       "      <th>INM-CM5-0</th>\n",
       "      <th>IPSL-CM6A-LR</th>\n",
       "      <th>MIROC-ES2L</th>\n",
       "      <th>MIROC6</th>\n",
       "      <th>MPI-ESM1-2-HR</th>\n",
       "      <th>MPI-ESM1-2-LR</th>\n",
       "      <th>MRI-ESM2-0</th>\n",
       "      <th>NESM3</th>\n",
       "      <th>UKESM1-0-LL</th>\n",
       "    </tr>\n",
       "    <tr>\n",
       "      <th>time</th>\n",
       "      <th></th>\n",
       "      <th></th>\n",
       "      <th></th>\n",
       "      <th></th>\n",
       "      <th></th>\n",
       "      <th></th>\n",
       "      <th></th>\n",
       "      <th></th>\n",
       "      <th></th>\n",
       "      <th></th>\n",
       "      <th></th>\n",
       "      <th></th>\n",
       "      <th></th>\n",
       "      <th></th>\n",
       "      <th></th>\n",
       "      <th></th>\n",
       "      <th></th>\n",
       "      <th></th>\n",
       "      <th></th>\n",
       "      <th></th>\n",
       "      <th></th>\n",
       "    </tr>\n",
       "  </thead>\n",
       "  <tbody>\n",
       "    <tr>\n",
       "      <th>1850</th>\n",
       "      <td>-3.425896</td>\n",
       "      <td>5.986613</td>\n",
       "      <td>-3.753392</td>\n",
       "      <td>0.267185</td>\n",
       "      <td>0.070740</td>\n",
       "      <td>0.834016</td>\n",
       "      <td>7.322974</td>\n",
       "      <td>-3.815722</td>\n",
       "      <td>-1.516900</td>\n",
       "      <td>7.553762</td>\n",
       "      <td>...</td>\n",
       "      <td>4.656646</td>\n",
       "      <td>1.146920</td>\n",
       "      <td>-2.918287</td>\n",
       "      <td>3.014877</td>\n",
       "      <td>-4.806077</td>\n",
       "      <td>0.892315</td>\n",
       "      <td>0.787317</td>\n",
       "      <td>6.233296</td>\n",
       "      <td>7.114786</td>\n",
       "      <td>3.292033</td>\n",
       "    </tr>\n",
       "    <tr>\n",
       "      <th>1851</th>\n",
       "      <td>0.016901</td>\n",
       "      <td>6.086028</td>\n",
       "      <td>-4.336680</td>\n",
       "      <td>5.869863</td>\n",
       "      <td>3.273423</td>\n",
       "      <td>5.911148</td>\n",
       "      <td>7.657526</td>\n",
       "      <td>1.811446</td>\n",
       "      <td>-4.483397</td>\n",
       "      <td>13.607738</td>\n",
       "      <td>...</td>\n",
       "      <td>4.344208</td>\n",
       "      <td>-0.698220</td>\n",
       "      <td>-0.946923</td>\n",
       "      <td>4.029792</td>\n",
       "      <td>-5.461465</td>\n",
       "      <td>-0.578507</td>\n",
       "      <td>-2.529444</td>\n",
       "      <td>5.247426</td>\n",
       "      <td>-0.206777</td>\n",
       "      <td>3.575261</td>\n",
       "    </tr>\n",
       "    <tr>\n",
       "      <th>1852</th>\n",
       "      <td>0.214255</td>\n",
       "      <td>-0.102335</td>\n",
       "      <td>-5.667346</td>\n",
       "      <td>3.391782</td>\n",
       "      <td>-0.628808</td>\n",
       "      <td>4.615159</td>\n",
       "      <td>7.479408</td>\n",
       "      <td>-2.103830</td>\n",
       "      <td>-3.745529</td>\n",
       "      <td>10.338875</td>\n",
       "      <td>...</td>\n",
       "      <td>1.186002</td>\n",
       "      <td>-1.176297</td>\n",
       "      <td>2.726275</td>\n",
       "      <td>0.665155</td>\n",
       "      <td>-4.959316</td>\n",
       "      <td>-5.998339</td>\n",
       "      <td>0.155783</td>\n",
       "      <td>4.465715</td>\n",
       "      <td>-1.638802</td>\n",
       "      <td>6.058067</td>\n",
       "    </tr>\n",
       "    <tr>\n",
       "      <th>1853</th>\n",
       "      <td>-0.204885</td>\n",
       "      <td>1.812496</td>\n",
       "      <td>-8.682094</td>\n",
       "      <td>2.779541</td>\n",
       "      <td>2.016558</td>\n",
       "      <td>3.455125</td>\n",
       "      <td>7.959799</td>\n",
       "      <td>4.704309</td>\n",
       "      <td>-0.161860</td>\n",
       "      <td>9.747133</td>\n",
       "      <td>...</td>\n",
       "      <td>1.604294</td>\n",
       "      <td>-0.079654</td>\n",
       "      <td>0.642669</td>\n",
       "      <td>1.176310</td>\n",
       "      <td>-4.402802</td>\n",
       "      <td>-2.677122</td>\n",
       "      <td>0.997226</td>\n",
       "      <td>5.884628</td>\n",
       "      <td>4.061511</td>\n",
       "      <td>3.983527</td>\n",
       "    </tr>\n",
       "    <tr>\n",
       "      <th>1854</th>\n",
       "      <td>0.524503</td>\n",
       "      <td>4.781175</td>\n",
       "      <td>0.654878</td>\n",
       "      <td>0.967230</td>\n",
       "      <td>-1.804349</td>\n",
       "      <td>-1.200758</td>\n",
       "      <td>5.605023</td>\n",
       "      <td>3.665958</td>\n",
       "      <td>4.881058</td>\n",
       "      <td>9.237927</td>\n",
       "      <td>...</td>\n",
       "      <td>4.522746</td>\n",
       "      <td>2.394547</td>\n",
       "      <td>-0.318552</td>\n",
       "      <td>2.189030</td>\n",
       "      <td>-3.327860</td>\n",
       "      <td>-4.799611</td>\n",
       "      <td>1.855377</td>\n",
       "      <td>0.207513</td>\n",
       "      <td>2.691127</td>\n",
       "      <td>6.382934</td>\n",
       "    </tr>\n",
       "    <tr>\n",
       "      <th>...</th>\n",
       "      <td>...</td>\n",
       "      <td>...</td>\n",
       "      <td>...</td>\n",
       "      <td>...</td>\n",
       "      <td>...</td>\n",
       "      <td>...</td>\n",
       "      <td>...</td>\n",
       "      <td>...</td>\n",
       "      <td>...</td>\n",
       "      <td>...</td>\n",
       "      <td>...</td>\n",
       "      <td>...</td>\n",
       "      <td>...</td>\n",
       "      <td>...</td>\n",
       "      <td>...</td>\n",
       "      <td>...</td>\n",
       "      <td>...</td>\n",
       "      <td>...</td>\n",
       "      <td>...</td>\n",
       "      <td>...</td>\n",
       "      <td>...</td>\n",
       "    </tr>\n",
       "    <tr>\n",
       "      <th>2010</th>\n",
       "      <td>10.271232</td>\n",
       "      <td>-0.879096</td>\n",
       "      <td>-0.330408</td>\n",
       "      <td>-4.268958</td>\n",
       "      <td>3.528706</td>\n",
       "      <td>3.780572</td>\n",
       "      <td>3.009060</td>\n",
       "      <td>0.579277</td>\n",
       "      <td>0.837318</td>\n",
       "      <td>-2.527581</td>\n",
       "      <td>...</td>\n",
       "      <td>-0.088275</td>\n",
       "      <td>0.044138</td>\n",
       "      <td>7.405352</td>\n",
       "      <td>-0.893747</td>\n",
       "      <td>5.398382</td>\n",
       "      <td>1.377578</td>\n",
       "      <td>1.480400</td>\n",
       "      <td>7.626748</td>\n",
       "      <td>-0.254946</td>\n",
       "      <td>3.683962</td>\n",
       "    </tr>\n",
       "    <tr>\n",
       "      <th>2011</th>\n",
       "      <td>7.974182</td>\n",
       "      <td>5.153455</td>\n",
       "      <td>-1.425496</td>\n",
       "      <td>-7.137427</td>\n",
       "      <td>0.735581</td>\n",
       "      <td>7.823397</td>\n",
       "      <td>-0.225813</td>\n",
       "      <td>0.207375</td>\n",
       "      <td>-1.151538</td>\n",
       "      <td>-0.521905</td>\n",
       "      <td>...</td>\n",
       "      <td>-0.348899</td>\n",
       "      <td>1.732991</td>\n",
       "      <td>6.644731</td>\n",
       "      <td>-0.052985</td>\n",
       "      <td>4.981664</td>\n",
       "      <td>6.890736</td>\n",
       "      <td>-3.756797</td>\n",
       "      <td>5.320757</td>\n",
       "      <td>1.653201</td>\n",
       "      <td>-2.039407</td>\n",
       "    </tr>\n",
       "    <tr>\n",
       "      <th>2012</th>\n",
       "      <td>3.777886</td>\n",
       "      <td>4.595845</td>\n",
       "      <td>1.974337</td>\n",
       "      <td>0.015483</td>\n",
       "      <td>-0.167331</td>\n",
       "      <td>10.737544</td>\n",
       "      <td>7.059437</td>\n",
       "      <td>-3.727732</td>\n",
       "      <td>-1.233584</td>\n",
       "      <td>3.848332</td>\n",
       "      <td>...</td>\n",
       "      <td>-0.923705</td>\n",
       "      <td>2.192354</td>\n",
       "      <td>6.458820</td>\n",
       "      <td>2.755885</td>\n",
       "      <td>4.563660</td>\n",
       "      <td>5.154053</td>\n",
       "      <td>-3.490179</td>\n",
       "      <td>5.305406</td>\n",
       "      <td>-3.031902</td>\n",
       "      <td>-4.124324</td>\n",
       "    </tr>\n",
       "    <tr>\n",
       "      <th>2013</th>\n",
       "      <td>3.855741</td>\n",
       "      <td>6.068330</td>\n",
       "      <td>0.301469</td>\n",
       "      <td>-0.089388</td>\n",
       "      <td>-0.897080</td>\n",
       "      <td>5.087904</td>\n",
       "      <td>5.277302</td>\n",
       "      <td>4.143147</td>\n",
       "      <td>2.282245</td>\n",
       "      <td>6.264093</td>\n",
       "      <td>...</td>\n",
       "      <td>-3.274999</td>\n",
       "      <td>2.457655</td>\n",
       "      <td>4.972768</td>\n",
       "      <td>1.661741</td>\n",
       "      <td>3.919318</td>\n",
       "      <td>-2.095829</td>\n",
       "      <td>2.279822</td>\n",
       "      <td>8.383165</td>\n",
       "      <td>-0.201715</td>\n",
       "      <td>-3.951304</td>\n",
       "    </tr>\n",
       "    <tr>\n",
       "      <th>2014</th>\n",
       "      <td>7.528384</td>\n",
       "      <td>2.592195</td>\n",
       "      <td>-2.772907</td>\n",
       "      <td>-5.988143</td>\n",
       "      <td>1.151856</td>\n",
       "      <td>-1.728565</td>\n",
       "      <td>4.732427</td>\n",
       "      <td>2.022785</td>\n",
       "      <td>-2.186903</td>\n",
       "      <td>6.576274</td>\n",
       "      <td>...</td>\n",
       "      <td>-2.854280</td>\n",
       "      <td>-0.676286</td>\n",
       "      <td>5.506347</td>\n",
       "      <td>1.709420</td>\n",
       "      <td>5.770347</td>\n",
       "      <td>1.078147</td>\n",
       "      <td>3.154371</td>\n",
       "      <td>6.307209</td>\n",
       "      <td>2.993929</td>\n",
       "      <td>-3.087914</td>\n",
       "    </tr>\n",
       "  </tbody>\n",
       "</table>\n",
       "<p>330 rows × 28 columns</p>\n",
       "</div>"
      ],
      "text/plain": [
       "model  ACCESS-CM2  ACCESS-ESM1-5  BCC-CSM2-MR  CAMS-CSM1-0  CAS-ESM2-0  \\\n",
       "time                                                                     \n",
       "1850    -3.425896       5.986613    -3.753392     0.267185    0.070740   \n",
       "1851     0.016901       6.086028    -4.336680     5.869863    3.273423   \n",
       "1852     0.214255      -0.102335    -5.667346     3.391782   -0.628808   \n",
       "1853    -0.204885       1.812496    -8.682094     2.779541    2.016558   \n",
       "1854     0.524503       4.781175     0.654878     0.967230   -1.804349   \n",
       "...           ...            ...          ...          ...         ...   \n",
       "2010    10.271232      -0.879096    -0.330408    -4.268958    3.528706   \n",
       "2011     7.974182       5.153455    -1.425496    -7.137427    0.735581   \n",
       "2012     3.777886       4.595845     1.974337     0.015483   -0.167331   \n",
       "2013     3.855741       6.068330     0.301469    -0.089388   -0.897080   \n",
       "2014     7.528384       2.592195    -2.772907    -5.988143    1.151856   \n",
       "\n",
       "model  CMCC-CM2-SR5  CMCC-ESM2  CNRM-CM6-1  CNRM-ESM2-1    CanESM5  ...  \\\n",
       "time                                                                ...   \n",
       "1850       0.834016   7.322974   -3.815722    -1.516900   7.553762  ...   \n",
       "1851       5.911148   7.657526    1.811446    -4.483397  13.607738  ...   \n",
       "1852       4.615159   7.479408   -2.103830    -3.745529  10.338875  ...   \n",
       "1853       3.455125   7.959799    4.704309    -0.161860   9.747133  ...   \n",
       "1854      -1.200758   5.605023    3.665958     4.881058   9.237927  ...   \n",
       "...             ...        ...         ...          ...        ...  ...   \n",
       "2010       3.780572   3.009060    0.579277     0.837318  -2.527581  ...   \n",
       "2011       7.823397  -0.225813    0.207375    -1.151538  -0.521905  ...   \n",
       "2012      10.737544   7.059437   -3.727732    -1.233584   3.848332  ...   \n",
       "2013       5.087904   5.277302    4.143147     2.282245   6.264093  ...   \n",
       "2014      -1.728565   4.732427    2.022785    -2.186903   6.576274  ...   \n",
       "\n",
       "model  INM-CM4-8  INM-CM5-0  IPSL-CM6A-LR  MIROC-ES2L    MIROC6  \\\n",
       "time                                                              \n",
       "1850    4.656646   1.146920     -2.918287    3.014877 -4.806077   \n",
       "1851    4.344208  -0.698220     -0.946923    4.029792 -5.461465   \n",
       "1852    1.186002  -1.176297      2.726275    0.665155 -4.959316   \n",
       "1853    1.604294  -0.079654      0.642669    1.176310 -4.402802   \n",
       "1854    4.522746   2.394547     -0.318552    2.189030 -3.327860   \n",
       "...          ...        ...           ...         ...       ...   \n",
       "2010   -0.088275   0.044138      7.405352   -0.893747  5.398382   \n",
       "2011   -0.348899   1.732991      6.644731   -0.052985  4.981664   \n",
       "2012   -0.923705   2.192354      6.458820    2.755885  4.563660   \n",
       "2013   -3.274999   2.457655      4.972768    1.661741  3.919318   \n",
       "2014   -2.854280  -0.676286      5.506347    1.709420  5.770347   \n",
       "\n",
       "model  MPI-ESM1-2-HR  MPI-ESM1-2-LR  MRI-ESM2-0     NESM3  UKESM1-0-LL  \n",
       "time                                                                    \n",
       "1850        0.892315       0.787317    6.233296  7.114786     3.292033  \n",
       "1851       -0.578507      -2.529444    5.247426 -0.206777     3.575261  \n",
       "1852       -5.998339       0.155783    4.465715 -1.638802     6.058067  \n",
       "1853       -2.677122       0.997226    5.884628  4.061511     3.983527  \n",
       "1854       -4.799611       1.855377    0.207513  2.691127     6.382934  \n",
       "...              ...            ...         ...       ...          ...  \n",
       "2010        1.377578       1.480400    7.626748 -0.254946     3.683962  \n",
       "2011        6.890736      -3.756797    5.320757  1.653201    -2.039407  \n",
       "2012        5.154053      -3.490179    5.305406 -3.031902    -4.124324  \n",
       "2013       -2.095829       2.279822    8.383165 -0.201715    -3.951304  \n",
       "2014        1.078147       3.154371    6.307209  2.993929    -3.087914  \n",
       "\n",
       "[330 rows x 28 columns]"
      ]
     },
     "execution_count": 3,
     "metadata": {},
     "output_type": "execute_result"
    }
   ],
   "source": [
    "imprt.import_cmip6_slh_data(data_type = 'historical', use_models = use_models)"
   ]
  },
  {
   "cell_type": "markdown",
   "metadata": {},
   "source": [
    "#### Plot zos data"
   ]
  },
  {
   "cell_type": "code",
   "execution_count": 4,
   "metadata": {},
   "outputs": [
    {
     "data": {
      "image/png": "[encoded data removed]",
      "text/plain": [
       "<Figure size 1296x504 with 3 Axes>"
      ]
     },
     "metadata": {
      "needs_background": "light"
     },
     "output_type": "display_data"
    }
   ],
   "source": [
    "scenarios_zos = [zos_126, zos_245, zos_585]\n",
    "\n",
    "fig.plot_zos_med_percentiles_per_scenarios(scenarios_zos, sce_labels, sce_names, ra=5, hist_start = 1950)"
   ]
  },
  {
   "cell_type": "markdown",
   "metadata": {
    "tags": []
   },
   "source": [
    "## NearestPoint wind regression model\n",
    "\n",
    "MSL = constant + coef_u2 x u2 + coef_v2 x v2\n",
    "\n",
    "\n",
    "What do we need to obtain projections?\n",
    "- cmip6 data for scenario\n",
    "- regression results over historical period (from the regression of sea level averaged over all stations)\n",
    "- whether these regression results are significant"
   ]
  },
  {
   "cell_type": "code",
   "execution_count": 5,
   "metadata": {},
   "outputs": [],
   "source": [
    "model_np = 'NearestPoint'"
   ]
  },
  {
   "cell_type": "markdown",
   "metadata": {},
   "source": [
    "#### Import wind data"
   ]
  },
  {
   "cell_type": "code",
   "execution_count": 6,
   "metadata": {},
   "outputs": [
    {
     "ename": "UnboundLocalError",
     "evalue": "local variable 'models' referenced before assignment",
     "output_type": "error",
     "traceback": [
      "\u001b[0;31m---------------------------------------------------------------------------\u001b[0m",
      "\u001b[0;31mUnboundLocalError\u001b[0m                         Traceback (most recent call last)",
      "\u001b[0;32m/var/folders/4j/z15fnjkx387bkh8x5g1fh2080000gn/T/ipykernel_1036/2396145493.py\u001b[0m in \u001b[0;36m<module>\u001b[0;34m\u001b[0m\n\u001b[1;32m      1\u001b[0m \u001b[0;31m# Open data file\u001b[0m\u001b[0;34m\u001b[0m\u001b[0;34m\u001b[0m\u001b[0m\n\u001b[0;32m----> 2\u001b[0;31m \u001b[0mwind_126_np\u001b[0m \u001b[0;34m=\u001b[0m \u001b[0mimprt\u001b[0m\u001b[0;34m.\u001b[0m\u001b[0mimport_cmip6_wind_data\u001b[0m\u001b[0;34m(\u001b[0m\u001b[0mdata_type\u001b[0m \u001b[0;34m=\u001b[0m \u001b[0;34m'ssp126'\u001b[0m\u001b[0;34m,\u001b[0m \u001b[0muse_models\u001b[0m \u001b[0;34m=\u001b[0m \u001b[0muse_models\u001b[0m\u001b[0;34m)\u001b[0m\u001b[0;34m\u001b[0m\u001b[0;34m\u001b[0m\u001b[0m\n\u001b[0m\u001b[1;32m      3\u001b[0m \u001b[0mwind_245_np\u001b[0m \u001b[0;34m=\u001b[0m \u001b[0mimprt\u001b[0m\u001b[0;34m.\u001b[0m\u001b[0mimport_cmip6_wind_data\u001b[0m\u001b[0;34m(\u001b[0m\u001b[0mdata_type\u001b[0m \u001b[0;34m=\u001b[0m \u001b[0;34m'ssp245'\u001b[0m\u001b[0;34m,\u001b[0m \u001b[0muse_models\u001b[0m \u001b[0;34m=\u001b[0m \u001b[0muse_models\u001b[0m\u001b[0;34m)\u001b[0m\u001b[0;34m\u001b[0m\u001b[0;34m\u001b[0m\u001b[0m\n\u001b[1;32m      4\u001b[0m \u001b[0mwind_585_np\u001b[0m \u001b[0;34m=\u001b[0m \u001b[0mimprt\u001b[0m\u001b[0;34m.\u001b[0m\u001b[0mimport_cmip6_wind_data\u001b[0m\u001b[0;34m(\u001b[0m\u001b[0mdata_type\u001b[0m \u001b[0;34m=\u001b[0m \u001b[0;34m'ssp585'\u001b[0m\u001b[0;34m,\u001b[0m \u001b[0muse_models\u001b[0m \u001b[0;34m=\u001b[0m \u001b[0muse_models\u001b[0m\u001b[0;34m)\u001b[0m\u001b[0;34m\u001b[0m\u001b[0;34m\u001b[0m\u001b[0m\n",
      "\u001b[0;32m~/Projects/ClimatePhysics/Thesis/Github/Thesis-KNMI/Projections/code/import_data.py\u001b[0m in \u001b[0;36mimport_cmip6_wind_data\u001b[0;34m(model, data_type, use_models)\u001b[0m\n\u001b[1;32m    378\u001b[0m         \u001b[0mmodels\u001b[0m \u001b[0;34m=\u001b[0m \u001b[0mbest_models\u001b[0m\u001b[0;34m\u001b[0m\u001b[0;34m\u001b[0m\u001b[0m\n\u001b[1;32m    379\u001b[0m \u001b[0;34m\u001b[0m\u001b[0m\n\u001b[0;32m--> 380\u001b[0;31m     \u001b[0mdata\u001b[0m \u001b[0;34m=\u001b[0m \u001b[0mdata\u001b[0m\u001b[0;34m.\u001b[0m\u001b[0mwhere\u001b[0m\u001b[0;34m(\u001b[0m\u001b[0mdata\u001b[0m\u001b[0;34m.\u001b[0m\u001b[0mmodel\u001b[0m\u001b[0;34m.\u001b[0m\u001b[0misin\u001b[0m\u001b[0;34m(\u001b[0m\u001b[0mmodels\u001b[0m\u001b[0;34m)\u001b[0m\u001b[0;34m,\u001b[0m \u001b[0mdrop\u001b[0m\u001b[0;34m=\u001b[0m\u001b[0;32mTrue\u001b[0m\u001b[0;34m)\u001b[0m\u001b[0;34m\u001b[0m\u001b[0;34m\u001b[0m\u001b[0m\n\u001b[0m\u001b[1;32m    381\u001b[0m \u001b[0;34m\u001b[0m\u001b[0m\n\u001b[1;32m    382\u001b[0m \u001b[0;34m\u001b[0m\u001b[0m\n",
      "\u001b[0;31mUnboundLocalError\u001b[0m: local variable 'models' referenced before assignment"
     ]
    }
   ],
   "source": [
    "# Open data file\n",
    "wind_126_np = imprt.import_cmip6_wind_data(data_type = 'ssp126', use_models = use_models)\n",
    "wind_245_np = imprt.import_cmip6_wind_data(data_type = 'ssp245', use_models = use_models)\n",
    "wind_585_np = imprt.import_cmip6_wind_data(data_type = 'ssp585', use_models = use_models)\n"
   ]
  },
  {
   "cell_type": "markdown",
   "metadata": {},
   "source": [
    "#### Plot wind data"
   ]
  },
  {
   "cell_type": "code",
   "execution_count": null,
   "metadata": {},
   "outputs": [],
   "source": [
    "wind_scenarios_np = [wind_126_np, wind_245_np, wind_585_np]"
   ]
  },
  {
   "cell_type": "code",
   "execution_count": null,
   "metadata": {},
   "outputs": [],
   "source": [
    "fig.plot_wind_med_percentiles_per_scenario(wind_scenarios_np, sce_labels, sce_names, ra=5, hist_start = 1950)"
   ]
  },
  {
   "cell_type": "markdown",
   "metadata": {},
   "source": [
    "#### Obtain projections"
   ]
  },
  {
   "cell_type": "code",
   "execution_count": null,
   "metadata": {},
   "outputs": [],
   "source": [
    "proj_126_np, results_np = proj.wind_contr_proj(wind_126_np, use_models = use_models)\n",
    "proj_245_np, results_np = proj.wind_contr_proj(wind_245_np, use_models = use_models)\n",
    "proj_585_np, results_np = proj.wind_contr_proj(wind_585_np, use_models = use_models)"
   ]
  },
  {
   "cell_type": "code",
   "execution_count": null,
   "metadata": {},
   "outputs": [],
   "source": [
    "scenarios_np = [proj_126_np, proj_245_np, proj_585_np]"
   ]
  },
  {
   "cell_type": "markdown",
   "metadata": {},
   "source": [
    "Not much difference between the scenarios."
   ]
  },
  {
   "cell_type": "code",
   "execution_count": null,
   "metadata": {},
   "outputs": [],
   "source": [
    "fig.plot_med_percentiles_scenarios(scenarios_np, sce_labels, sce_names, ra=5, hist_start = 1950)"
   ]
  },
  {
   "cell_type": "code",
   "execution_count": null,
   "metadata": {},
   "outputs": [],
   "source": [
    "fig.plot_med_percentiles_per_scenarios(scenarios_np, sce_labels, sce_names, ra=5, hist_start = 1950)"
   ]
  },
  {
   "cell_type": "markdown",
   "metadata": {
    "tags": []
   },
   "source": [
    "## Timmerman wind regression model\n",
    "\n",
    "MSL       =    \n",
    "\n",
    "            constant\n",
    "\n",
    "         + (coef_u2 x u2 + coef_v2 x v2)_channel + (coef_u2 x u2 + coef_v2 x v2)_south\n",
    "\n",
    "         + (coef_u2 x u2 + coef_v2 x v2)_midwest + (coef_u2 x u2 + coef_v2 x v2)_mideast\n",
    "         \n",
    "         + (coef_u2 x u2 + coef_v2 x v2)_northwest + (coef_u2 x u2 + coef_v2 x v2)_northeast\n",
    "\n"
   ]
  },
  {
   "cell_type": "code",
   "execution_count": null,
   "metadata": {},
   "outputs": [],
   "source": [
    "model_tim = 'Timmerman'"
   ]
  },
  {
   "cell_type": "markdown",
   "metadata": {},
   "source": [
    "#### Import wind data"
   ]
  },
  {
   "cell_type": "code",
   "execution_count": null,
   "metadata": {},
   "outputs": [],
   "source": [
    "# Open data file\n",
    "wind_126_tim = imprt.import_cmip6_wind_data(model = model_tim, data_type = 'ssp126', use_models = use_models)\n",
    "wind_245_tim = imprt.import_cmip6_wind_data(model = model_tim, data_type = 'ssp245', use_models = use_models)\n",
    "wind_585_tim = imprt.import_cmip6_wind_data(model = model_tim, data_type = 'ssp585', use_models = use_models)\n"
   ]
  },
  {
   "cell_type": "markdown",
   "metadata": {},
   "source": [
    "#### Plot wind data\n",
    "\n",
    "The wind is plotted per model as an average over the Timmerman regions"
   ]
  },
  {
   "cell_type": "code",
   "execution_count": null,
   "metadata": {},
   "outputs": [],
   "source": [
    "wind_scenarios_tim = [wind_126_tim, wind_245_tim, wind_585_tim]\n"
   ]
  },
  {
   "cell_type": "code",
   "execution_count": null,
   "metadata": {},
   "outputs": [],
   "source": [
    "fig.plot_wind_med_percentiles_per_scenario(wind_scenarios_tim, sce_labels, sce_names, ra=5, hist_start = 1950, wind_model = model_tim)"
   ]
  },
  {
   "cell_type": "code",
   "execution_count": null,
   "metadata": {},
   "outputs": [],
   "source": [
    "proj_126_tim, results_tim = proj.wind_contr_proj(wind_126_tim, wind_model = model_tim, use_models = use_models)\n",
    "proj_245_tim, results_tim = proj.wind_contr_proj(wind_245_tim, wind_model = model_tim, use_models = use_models)\n",
    "proj_585_tim, results_tim = proj.wind_contr_proj(wind_585_tim, wind_model = model_tim, use_models = use_models)"
   ]
  },
  {
   "cell_type": "code",
   "execution_count": null,
   "metadata": {},
   "outputs": [],
   "source": [
    "scenarios_tim = [proj_126_tim, proj_245_tim, proj_585_tim]\n"
   ]
  },
  {
   "cell_type": "markdown",
   "metadata": {},
   "source": [
    "Especially the non-smoothed projections are very different from the NearestPoint wind model"
   ]
  },
  {
   "cell_type": "code",
   "execution_count": null,
   "metadata": {},
   "outputs": [],
   "source": [
    "fig.plot_med_percentiles_scenarios(scenarios_tim, sce_labels, sce_names, hist_start = 1950, wind_model = model_tim)"
   ]
  },
  {
   "cell_type": "code",
   "execution_count": null,
   "metadata": {},
   "outputs": [],
   "source": [
    "fig.plot_med_percentiles_per_scenarios(scenarios_tim, sce_labels, sce_names, hist_start = 1950, ra=5, wind_model = model_tim)"
   ]
  },
  {
   "cell_type": "markdown",
   "metadata": {
    "tags": []
   },
   "source": [
    "## Dangendorf wind regression model\n",
    "\n",
    "MSL = constant + coef_neg x negative corr. region + coef_pos x positive corr. region\n",
    "\n"
   ]
  },
  {
   "cell_type": "code",
   "execution_count": null,
   "metadata": {},
   "outputs": [],
   "source": [
    "model_da = 'Dangendorf'"
   ]
  },
  {
   "cell_type": "markdown",
   "metadata": {},
   "source": [
    "#### Import pressure data"
   ]
  },
  {
   "cell_type": "code",
   "execution_count": null,
   "metadata": {},
   "outputs": [],
   "source": [
    "# Open data file\n",
    "wind_126_da = imprt.import_cmip6_wind_data(model = model_da, data_type = 'ssp126', use_models = use_models)\n",
    "wind_245_da = imprt.import_cmip6_wind_data(model = model_da, data_type = 'ssp245', use_models = use_models)\n",
    "wind_585_da = imprt.import_cmip6_wind_data(model = model_da, data_type = 'ssp585', use_models = use_models)"
   ]
  },
  {
   "cell_type": "markdown",
   "metadata": {},
   "source": [
    "#### Plot pressure data"
   ]
  },
  {
   "cell_type": "code",
   "execution_count": null,
   "metadata": {},
   "outputs": [],
   "source": [
    "wind_scenarios_da = [wind_126_da, wind_245_da, wind_585_da]\n"
   ]
  },
  {
   "cell_type": "code",
   "execution_count": null,
   "metadata": {},
   "outputs": [],
   "source": [
    "fig.plot_wind_med_percentiles_per_scenario(wind_scenarios_da, sce_labels, sce_names, ra=5, hist_start = 1950, wind_model = model_da)"
   ]
  },
  {
   "cell_type": "code",
   "execution_count": null,
   "metadata": {},
   "outputs": [],
   "source": [
    "proj_126_da, results_da = proj.wind_contr_proj(wind_126_da, wind_model = model_da, use_models = use_models)\n",
    "proj_245_da, results_da = proj.wind_contr_proj(wind_245_da, wind_model = model_da, use_models = use_models)\n",
    "proj_585_da, results_da = proj.wind_contr_proj(wind_585_da, wind_model = model_da, use_models = use_models)"
   ]
  },
  {
   "cell_type": "code",
   "execution_count": null,
   "metadata": {},
   "outputs": [],
   "source": [
    "scenarios_da = [proj_126_da, proj_245_da, proj_585_da]\n"
   ]
  },
  {
   "cell_type": "markdown",
   "metadata": {},
   "source": [
    "Especially the non-smoothed projections are very different from the NearestPoint wind model"
   ]
  },
  {
   "cell_type": "code",
   "execution_count": null,
   "metadata": {},
   "outputs": [],
   "source": [
    "fig.plot_med_percentiles_scenarios(scenarios_da, sce_labels, sce_names, hist_start = 1950, wind_model = model_da)"
   ]
  },
  {
   "cell_type": "code",
   "execution_count": null,
   "metadata": {},
   "outputs": [],
   "source": [
    "fig.plot_med_percentiles_per_scenarios(scenarios_da, sce_labels, sce_names, hist_start = 1950, ra=5, wind_model = model_da)"
   ]
  },
  {
   "cell_type": "markdown",
   "metadata": {},
   "source": [
    "## Compare the different wind models"
   ]
  },
  {
   "cell_type": "markdown",
   "metadata": {},
   "source": [
    "#### Historical and projected wind contribution to mean sea level"
   ]
  },
  {
   "cell_type": "code",
   "execution_count": null,
   "metadata": {},
   "outputs": [],
   "source": [
    "scenarios_comp = [scenarios_np, scenarios_tim, scenarios_da]\n"
   ]
  },
  {
   "cell_type": "markdown",
   "metadata": {},
   "source": []
  },
  {
   "cell_type": "code",
   "execution_count": null,
   "metadata": {},
   "outputs": [],
   "source": [
    "fig.plot_med_percentiles_per_scenarios_all_wind_models(scenarios_comp, sce_labels, sce_names, hist_start = 1950, ra=5)"
   ]
  },
  {
   "cell_type": "markdown",
   "metadata": {},
   "source": [
    "### Annual trends over 2001 - 2100\n",
    "\n",
    "Dangendorf found trends between -0.14 and 0.60 mm/y"
   ]
  },
  {
   "cell_type": "code",
   "execution_count": null,
   "metadata": {},
   "outputs": [],
   "source": [
    "import matplotlib.pyplot as plt\n",
    "import pandas as pd\n",
    "from scipy.stats import linregress\n",
    "\n",
    "wind_labels = ['NearestPoint', 'Timmerman', 'Dangendorf']\n",
    "markers = ['<', '^', '>']\n",
    "\n",
    "\n",
    "plt.figure(figsize=(8,6))\n",
    "\n",
    "dfs_wmodels = []\n",
    "for i, scenarios in enumerate(scenarios_comp): # loop over the wind models\n",
    "    dfs_scenarios = []\n",
    "    for j, scenario in enumerate(scenarios): # loop over the scenarios\n",
    "        \n",
    "        df = pd.DataFrame({'variable':['trend', 'se']})\n",
    "        df = df.set_index('variable')\n",
    "        for k, model in enumerate(scenario.columns): # loop over the models\n",
    "            trend = linregress(scenario.index.values, scenario[model].values).slope\n",
    "            se = linregress(scenario.index.values, scenario[model].values).stderr\n",
    "            df[model] = [trend, se]\n",
    "            \n",
    "            plt.scatter(sce_labels[j], trend, marker = markers[i])\n",
    "        dfs_scenarios.append(df)\n",
    "    dfs_wmodels.append(pd.concat(dfs_scenarios, axis=1, keys = sce_labels))\n",
    "    \n",
    "trend_df = pd.concat(dfs_wmodels, axis=1, keys = wind_labels).swaplevel(2,1, axis=1)\n",
    "\n",
    "plt.ylabel('Linear trend [mm/y]')\n",
    "\n"
   ]
  },
  {
   "cell_type": "code",
   "execution_count": null,
   "metadata": {},
   "outputs": [],
   "source": [
    "def significance_test(p, alpha):\n",
    "    if p < alpha: return True\n",
    "    else: return False"
   ]
  },
  {
   "cell_type": "code",
   "execution_count": null,
   "metadata": {},
   "outputs": [],
   "source": [
    "colors = ['b', 'tab:blue', 'tab:orange', 'tab:green', 'tab:red', 'tab:purple', \n",
    "              'tab:brown', 'tab:pink', 'tab:gray', 'tab:olive', 'tab:cyan', 'g', 'k']\n",
    "models = scenarios_comp[0][2].columns\n",
    "significance_level = 95\n",
    "\n",
    "dfs_wmodels = []\n",
    "for i, scenarios in enumerate(scenarios_comp): # loop over the wind models\n",
    "    \n",
    "    plt.figure(figsize=(8,4))\n",
    "    plt.title(wind_labels[i])\n",
    "    plt.ylabel('Linear trend [mm/y]')\n",
    "    dfs_scenarios = []\n",
    "    for j, scenario in enumerate(scenarios): # loop over the scenarios\n",
    "        \n",
    "        df = pd.DataFrame({'variable':['trend', 'se', 'sig']})\n",
    "        df = df.set_index('variable')\n",
    "        for k, model in enumerate(models): # loop over the models\n",
    "            if model in scenario:\n",
    "                trend = linregress(scenario.index.values, scenario[model].values).slope\n",
    "                se = linregress(scenario.index.values, scenario[model].values).stderr\n",
    "                p = linregress(scenario.index.values, scenario[model].values).pvalue\n",
    "                sig = significance_test(p, 1-significance_level/100)\n",
    "                df[model] = [trend, se, sig]\n",
    "                #plt.errorbar(labels[j], trend, yerr=se, fmt=\"o\", label = 'Tide gauge')\n",
    "                if sig:\n",
    "                    plt.scatter(sce_labels[j], trend, color = colors[k], label = model)\n",
    "                \n",
    "        dfs_scenarios.append(df)\n",
    "    dfs_wmodels.append(pd.concat(dfs_scenarios, axis=1, keys = sce_labels))\n",
    "    plt.ylim(-0.012, 0.022)\n",
    "    plt.legend(bbox_to_anchor=(1.05, 1.0))\n",
    "    \n",
    "    \n",
    "trend_df = pd.concat(dfs_wmodels, axis=1, keys = wind_labels).swaplevel(2,1, axis=1)\n",
    "\n"
   ]
  },
  {
   "cell_type": "markdown",
   "metadata": {},
   "source": [
    "Most annual trends are not significant on the 95% significance level and the significant ones are very very small."
   ]
  },
  {
   "cell_type": "markdown",
   "metadata": {},
   "source": [
    "### Plot percentile bars\n",
    "\n",
    "Following: https://github.com/dlebars/CMIP_SeaLevel/blob/master/notebooks/plot_zostoga.ipynb"
   ]
  },
  {
   "cell_type": "markdown",
   "metadata": {},
   "source": [
    "#### 2001 - 2021"
   ]
  },
  {
   "cell_type": "code",
   "execution_count": null,
   "metadata": {},
   "outputs": [],
   "source": [
    "percentiles, median = fig.make_percentile_df(scenarios_comp, sce_labels, sce_names)"
   ]
  },
  {
   "cell_type": "code",
   "execution_count": null,
   "metadata": {},
   "outputs": [],
   "source": [
    "percentiles"
   ]
  },
  {
   "cell_type": "code",
   "execution_count": null,
   "metadata": {},
   "outputs": [],
   "source": [
    "median"
   ]
  },
  {
   "cell_type": "code",
   "execution_count": null,
   "metadata": {},
   "outputs": [],
   "source": [
    "scenario = scenarios_comp[0][0]\n",
    "year_s = 1850\n",
    "year_e = 1900\n",
    "\n",
    "df_trend = pd.DataFrame({'variable':['trend']})\n",
    "df_trend = df_trend.set_index('variable')\n",
    "for model in scenario:\n",
    "    df_trend[model] = linregress(scenario[model].loc[year_s:year_e].index,\n",
    "                                                scenario[model].loc[year_s:year_e].values).slope\n",
    "                \n",
    "df_trend.quantile(p/100, axis=1).values[0]"
   ]
  },
  {
   "cell_type": "code",
   "execution_count": null,
   "metadata": {},
   "outputs": [],
   "source": [
    "df_trend"
   ]
  },
  {
   "cell_type": "code",
   "execution_count": null,
   "metadata": {},
   "outputs": [],
   "source": [
    "year_s = 2000\n",
    "year_e = 2100\n",
    "\n",
    "linregress(scenario[model].loc[year_s:year_e].index,\n",
    "                                                scenario[model].loc[year_s:year_e].values).slope"
   ]
  },
  {
   "cell_type": "code",
   "execution_count": null,
   "metadata": {},
   "outputs": [],
   "source": [
    "median['NearestPoint'].index"
   ]
  },
  {
   "cell_type": "code",
   "execution_count": null,
   "metadata": {},
   "outputs": [],
   "source": [
    "median['NearestPoint'].values"
   ]
  },
  {
   "cell_type": "code",
   "execution_count": null,
   "metadata": {},
   "outputs": [],
   "source": [
    "fig.summary_fig_and_table(percentiles['NearestPoint'].T, wind_model = 'NearestPoint')"
   ]
  },
  {
   "cell_type": "code",
   "execution_count": null,
   "metadata": {},
   "outputs": [],
   "source": [
    "fig.summary_fig_and_table(percentiles['Timmerman'].T, wind_model = 'Timmerman')"
   ]
  },
  {
   "cell_type": "code",
   "execution_count": null,
   "metadata": {},
   "outputs": [],
   "source": [
    "fig.summary_fig_and_table(percentiles['Dangendorf'].T, wind_model = 'Dangendorf')"
   ]
  },
  {
   "cell_type": "code",
   "execution_count": null,
   "metadata": {},
   "outputs": [],
   "source": [
    "fig.summary_fig_and_table_all_wind_models(percentiles)"
   ]
  },
  {
   "cell_type": "markdown",
   "metadata": {},
   "source": [
    "There is no significant long term change of atmospheric contribution to sea level over the 21st century. The observed wind influence is probably a natural variability"
   ]
  },
  {
   "cell_type": "markdown",
   "metadata": {},
   "source": [
    "#### 1901 - 2000"
   ]
  },
  {
   "cell_type": "code",
   "execution_count": null,
   "metadata": {},
   "outputs": [],
   "source": [
    "percentiles_19 = fig.make_percentile_df(scenarios_comp, sce_labels, sce_names, year_s = 1900.5, year_e = 2000.5)"
   ]
  },
  {
   "cell_type": "code",
   "execution_count": null,
   "metadata": {},
   "outputs": [],
   "source": [
    "fig.summary_fig_and_table_all_wind_models(percentiles_19, period = '1901 - 2000', name = '1901_2000', ymin=-0.1, ymax=0.1)"
   ]
  },
  {
   "cell_type": "markdown",
   "metadata": {},
   "source": [
    "#### Different periods (50 years)"
   ]
  },
  {
   "cell_type": "code",
   "execution_count": null,
   "metadata": {},
   "outputs": [],
   "source": [
    "years = [1900.5, 1950.5, 2000.5, 2050.5]\n",
    "period = 50\n",
    "\n",
    "for year in years:\n",
    "    percentiles = fig.make_percentile_df(scenarios_comp, sce_labels, sce_names, year_s = year, year_e = year+period)\n",
    "    year = round(year)\n",
    "    fig.summary_fig_and_table_all_wind_models(percentiles, period = f'{year} - {year+period}', name = f'{year}_{year+period}', \n",
    "                                              ymin = -0.1, ymax=0.1)\n"
   ]
  },
  {
   "cell_type": "markdown",
   "metadata": {},
   "source": [
    "#### Different periods (25 years)"
   ]
  },
  {
   "cell_type": "code",
   "execution_count": null,
   "metadata": {},
   "outputs": [],
   "source": [
    "years = [1900.5, 1925.5, 1950.5, 1975.5, 2000.5, 2025.5, 2050.5, 2075.5]\n",
    "period = 25\n",
    "\n",
    "for year in years:\n",
    "    percentiles = fig.make_percentile_df(scenarios_comp, sce_labels, sce_names, year_s = year, year_e = year+period)\n",
    "    year = round(year)\n",
    "    fig.summary_fig_and_table_all_wind_models(percentiles, period = f'{year} - {year+period}', name = f'{year}_{year+period}', \n",
    "                                              ymin = -0.1, ymax=0.1)\n"
   ]
  },
  {
   "cell_type": "code",
   "execution_count": null,
   "metadata": {},
   "outputs": [],
   "source": []
  }
 ],
 "metadata": {
  "kernelspec": {
   "display_name": "thesis",
   "language": "python",
   "name": "thesis"
  },
  "language_info": {
   "codemirror_mode": {
    "name": "ipython",
    "version": 3
   },
   "file_extension": ".py",
   "mimetype": "text/x-python",
   "name": "python",
   "nbconvert_exporter": "python",
   "pygments_lexer": "ipython3",
   "version": "3.9.7"
  }
 },
 "nbformat": 4,
 "nbformat_minor": 4
}
