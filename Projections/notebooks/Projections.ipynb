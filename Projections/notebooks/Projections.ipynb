{
 "cells": [
  {
   "cell_type": "markdown",
   "metadata": {},
   "source": [
    "## Notebook to start making projections over the twenty first century\n",
    "\n",
    "\n",
    "This notebook is used to make projections of the wind influence on sea level rise in the 21th century. \n",
    "\n",
    "Here, the same methods are used as in: DOI 10.1007/s00382-013-1932-4 (A new atmospheric proxy for sea level variability\n",
    "in the southeastern North Sea: observations and future ensemble projections)\n",
    "\n",
    "\n",
    "From the regression between zos and vas/uas (cmip6 data) the regression coefficients are used to make predictions into the 21st century (files: nearby_wind_regression_cmip6, timmerman_regression_cmip6, dangendorf_regression_cmip6). Only models are used that perform well according to spectral analysis (file: comparison). \n",
    "\n",
    "\n"
   ]
  },
  {
   "cell_type": "code",
   "execution_count": 17,
   "metadata": {},
   "outputs": [
    {
     "name": "stdout",
     "output_type": "stream",
     "text": [
      "The autoreload extension is already loaded. To reload it, use:\n",
      "  %reload_ext autoreload\n"
     ]
    }
   ],
   "source": [
    "%load_ext autoreload\n",
    "%autoreload 2\n",
    "\n",
    "import sys\n",
    "sys.path.append('/Users/iriskeizer/Projects/ClimatePhysics/Thesis/Github/Thesis-KNMI/Projections/code')\n",
    "\n",
    "import import_data as imprt"
   ]
  },
  {
   "cell_type": "markdown",
   "metadata": {},
   "source": [
    "### Projections for only the best models"
   ]
  },
  {
   "cell_type": "code",
   "execution_count": 18,
   "metadata": {},
   "outputs": [],
   "source": [
    "# Import best models\n",
    "path_best_models = '/Users/iriskeizer/Projects/ClimatePhysics/Thesis/Data/cmip6/Comparison results/'\n",
    "models = []\n",
    "\n",
    "# Source: https://stackabuse.com/reading-and-writing-lists-to-a-file-in-python/\n",
    "# open file and read the content in a list\n",
    "with open(path_best_models+'bestmodels.txt', 'r') as filehandle:\n",
    "    for line in filehandle:\n",
    "        # remove linebreak which is the last character of the string\n",
    "        currentPlace = line[:-1]\n",
    "\n",
    "        # add item to the list\n",
    "        models.append(currentPlace)"
   ]
  },
  {
   "cell_type": "markdown",
   "metadata": {},
   "source": [
    "#### Import zos data"
   ]
  },
  {
   "cell_type": "code",
   "execution_count": 19,
   "metadata": {},
   "outputs": [],
   "source": [
    "# Open data file\n",
    "zos_119 = imprt.import_cmip6_slh_data(data_type = 'ssp119')\n",
    "zos_126 = imprt.import_cmip6_slh_data(data_type = 'ssp126')\n",
    "zos_245 = imprt.import_cmip6_slh_data(data_type = 'ssp245')\n",
    "zos_370 = imprt.import_cmip6_slh_data(data_type = 'ssp370')\n",
    "zos_585 = imprt.import_cmip6_slh_data(data_type = 'ssp585')\n",
    "\n",
    "\n",
    "# Select models\n",
    "zos_119 = zos_119.where(zos_119.model.isin(models), drop = True)\n",
    "zos_126 = zos_126.where(zos_126.model.isin(models), drop = True)\n",
    "zos_245 = zos_245.where(zos_245.model.isin(models), drop = True)\n",
    "zos_370 = zos_370.where(zos_370.model.isin(models), drop = True)\n",
    "zos_585 = zos_585.where(zos_585.model.isin(models), drop = True)"
   ]
  },
  {
   "cell_type": "markdown",
   "metadata": {},
   "source": [
    "#### NearestPoint wind regression model\n",
    "\n",
    "MSL = constant + coef_u2 x u2 + coef_v2 x v2\n",
    "\n",
    "\n",
    "What do we need to obtain projections?\n",
    "- cmip6 data for scenario\n",
    "- regression results over historical period (from the regression of sea level averaged over all stations)\n",
    "- whether these regression results are significant"
   ]
  },
  {
   "cell_type": "code",
   "execution_count": 20,
   "metadata": {},
   "outputs": [],
   "source": [
    "model = 'NearestPoint'"
   ]
  },
  {
   "cell_type": "markdown",
   "metadata": {},
   "source": [
    "#### Import wind data"
   ]
  },
  {
   "cell_type": "code",
   "execution_count": null,
   "metadata": {},
   "outputs": [],
   "source": [
    "# Open data file\n",
    "wind_119 = imprt.import_cmip6_wind_data(data_type = 'ssp119')\n",
    "wind_126 = imprt.import_cmip6_wind_data(data_type = 'ssp126')\n",
    "wind_245 = imprt.import_cmip6_wind_data(data_type = 'ssp245')\n",
    "wind_370 = imprt.import_cmip6_wind_data(data_type = 'ssp370')\n",
    "wind_585 = imprt.import_cmip6_wind_data(data_type = 'ssp585')\n",
    "\n",
    "\n",
    "# Select models\n",
    "wind_119_np = wind_119.where(wind_119.model.isin(models), drop = True)\n",
    "wind_126_np = wind_126.where(wind_126.model.isin(models), drop = True)\n",
    "wind_245_np = wind_245.where(wind_245.model.isin(models), drop = True)\n",
    "wind_370_np = wind_370.where(wind_370.model.isin(models), drop = True)\n",
    "wind_585_np = wind_585.where(wind_585.model.isin(models), drop = True)"
   ]
  },
  {
   "cell_type": "markdown",
   "metadata": {},
   "source": [
    "#### Import regression coefficients"
   ]
  },
  {
   "cell_type": "code",
   "execution_count": null,
   "metadata": {},
   "outputs": [],
   "source": [
    "import pandas as pd\n",
    "\n",
    "# Import regression coefficients\n",
    "path_reg_results = '/Users/iriskeizer/Projects/ClimatePhysics/Thesis/Data/cmip6/Regression results/Projections/'\n",
    "results_np = pd.read_csv(path_reg_results + f'{model}_results.csv', index_col = 'result')\n",
    "\n",
    "# Select models\n",
    "results_np = results_np[models]"
   ]
  },
  {
   "cell_type": "code",
   "execution_count": null,
   "metadata": {},
   "outputs": [],
   "source": [
    "results_np"
   ]
  },
  {
   "cell_type": "code",
   "execution_count": null,
   "metadata": {},
   "outputs": [],
   "source": [
    "results_np"
   ]
  },
  {
   "cell_type": "code",
   "execution_count": null,
   "metadata": {},
   "outputs": [],
   "source": [
    "# Obtain projections of wind contribution to sea level\n",
    "def wind_contr_proj_np(results, wind_proj):\n",
    "    \n",
    "    df = pd.DataFrame({'time':wind_proj.time.values})\n",
    "    df = df.set_index('time')\n",
    "    \n",
    "    \n",
    "    for model in wind_proj.model.values:\n",
    "        constant = results[model]['constant']\n",
    "        u2_coef = results[model]['u$^2$']\n",
    "        v2_coef = results[model]['v$^2$']\n",
    "        \n",
    "        u2_data = wind_proj.u2.sel(model=model, drop=True).values\n",
    "        v2_data = wind_proj.v2.sel(model=model, drop=True).values\n",
    "        \n",
    "        wind_contr = constant + (u2_coef * u2_data) + (v2_coef * v2_data)\n",
    "        df[model] = wind_contr\n",
    "        \n",
    "    return df"
   ]
  },
  {
   "cell_type": "code",
   "execution_count": null,
   "metadata": {},
   "outputs": [],
   "source": [
    "proj_119_np = wind_contr_proj_np(results_np, wind_119_np)\n",
    "proj_126_np = wind_contr_proj_np(results_np, wind_126_np)\n",
    "proj_245_np = wind_contr_proj_np(results_np, wind_245_np)\n",
    "proj_370_np = wind_contr_proj_np(results_np, wind_370_np)\n",
    "proj_585_np = wind_contr_proj_np(results_np, wind_585_np)"
   ]
  },
  {
   "cell_type": "code",
   "execution_count": null,
   "metadata": {},
   "outputs": [],
   "source": [
    "import matplotlib.pyplot as plt\n",
    "\n",
    "zos_119.zos.plot(hue='model', figsize=(9,3))\n",
    "plt.title('ssp=119')\n",
    "plt.ylabel('zos [cm]')\n",
    "plt.xlabel('time [y]')\n",
    "plt.axhline(color='k', linestyle='--', linewidth = 1)"
   ]
  },
  {
   "cell_type": "code",
   "execution_count": null,
   "metadata": {},
   "outputs": [],
   "source": [
    "proj_119_np.plot(figsize=(9,3))\n",
    "plt.title('ssp=119')\n",
    "plt.ylabel('wind contribution [cm]')\n",
    "plt.xlabel('time [y]')\n",
    "plt.axhline(color='k', linestyle='--', linewidth = 1)"
   ]
  },
  {
   "cell_type": "code",
   "execution_count": null,
   "metadata": {},
   "outputs": [],
   "source": [
    "proj_585_np.plot(figsize=(9,3))\n",
    "plt.title('ssp=585')\n",
    "plt.ylabel('wind contribution [cm]')\n",
    "plt.xlabel('time [y]')\n",
    "plt.axhline(color='k', linestyle='--', linewidth = 1)"
   ]
  },
  {
   "cell_type": "code",
   "execution_count": null,
   "metadata": {},
   "outputs": [],
   "source": []
  },
  {
   "cell_type": "code",
   "execution_count": null,
   "metadata": {},
   "outputs": [],
   "source": []
  },
  {
   "cell_type": "code",
   "execution_count": null,
   "metadata": {},
   "outputs": [],
   "source": []
  },
  {
   "cell_type": "code",
   "execution_count": null,
   "metadata": {},
   "outputs": [],
   "source": []
  },
  {
   "cell_type": "code",
   "execution_count": null,
   "metadata": {},
   "outputs": [],
   "source": []
  },
  {
   "cell_type": "code",
   "execution_count": null,
   "metadata": {},
   "outputs": [],
   "source": []
  },
  {
   "cell_type": "code",
   "execution_count": null,
   "metadata": {},
   "outputs": [],
   "source": []
  },
  {
   "cell_type": "code",
   "execution_count": null,
   "metadata": {},
   "outputs": [],
   "source": []
  }
 ],
 "metadata": {
  "kernelspec": {
   "display_name": "thesis",
   "language": "python",
   "name": "thesis"
  },
  "language_info": {
   "codemirror_mode": {
    "name": "ipython",
    "version": 3
   },
   "file_extension": ".py",
   "mimetype": "text/x-python",
   "name": "python",
   "nbconvert_exporter": "python",
   "pygments_lexer": "ipython3",
   "version": "3.9.7"
  }
 },
 "nbformat": 4,
 "nbformat_minor": 4
}
