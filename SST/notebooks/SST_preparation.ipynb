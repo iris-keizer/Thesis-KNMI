{
 "cells": [
  {
   "cell_type": "markdown",
   "id": "79b14483-b972-4681-90fc-5d5296eb3455",
   "metadata": {},
   "source": [
    "## Process the SST data\n",
    "\n",
    "Their units are °C "
   ]
  },
  {
   "cell_type": "code",
   "execution_count": 2,
   "id": "840c7d72-270c-4ee3-9b67-b1c541d8dbee",
   "metadata": {},
   "outputs": [],
   "source": [
    "# Import necessary packages\n",
    "\n",
    "import xarray as xr"
   ]
  },
  {
   "cell_type": "code",
   "execution_count": 33,
   "id": "45150e77-0acf-44b3-a95f-28dfcc427eca",
   "metadata": {},
   "outputs": [],
   "source": [
    "# Import the files\n",
    "\n",
    "hadisst = xr.open_dataset('/Users/iriskeizer/Documents/Wind effect/Data/observations/SST/HadISST_sst.nc')\n",
    "cobesst = xr.open_dataset('/Users/iriskeizer/Documents/Wind effect/Data/observations/SST/cobe_sst.mon.mean.nc')\n",
    "\n",
    "# Obtain annual averages\n",
    "hadisst = hadisst.groupby('time.year').mean('time')\n",
    "cobesst = cobesst.groupby('time.year').mean('time')\n",
    "\n",
    "# Delete 2022\n",
    "hadisst = hadisst.where((hadisst.year<2022), drop=True)\n",
    "cobesst = cobesst.where((cobesst.year<2022), drop=True)\n",
    "\n",
    "# Shift longitudes to -180-180\n",
    "cobesst.coords['lon'] = (cobesst.lon + 180) % 360 - 180\n",
    "\n",
    "# Rename coordinates\n",
    "hadisst = hadisst.rename({'latitude': 'lat', 'longitude': 'lon', 'year': 'time'})\n",
    "cobesst = cobesst.rename({'year': 'time'})\n",
    "\n",
    "\n",
    "# Sort dataarrays ascending\n",
    "hadisst = hadisst.sortby(hadisst.lon, ascending=True)\n",
    "hadisst = hadisst.sortby(hadisst.lat, ascending=True)\n",
    "cobesst = cobesst.sortby(cobesst.lon, ascending=True)\n",
    "cobesst = cobesst.sortby(cobesst.lat, ascending=True)\n",
    "\n",
    "\n",
    "\n",
    "def xr_select_region(data, coords):\n",
    "    '''\n",
    "    Function that selects a given region of data for xarray dataset  \n",
    "    \n",
    "    Coords should have shape: [longitude minimum, longitude maximum, latitude minimum, latitude maximum]\n",
    "    '''\n",
    "    \n",
    "    data = data.where(data.lon>=coords[0], drop=True)\n",
    "    data = data.where(data.lon<=coords[1], drop=True)\n",
    "    data = data.where(data.lat>=coords[2], drop=True)\n",
    "    data = data.where(data.lat<=coords[3], drop=True)\n",
    "    \n",
    "    return data\n",
    "\n",
    "\n",
    "\n",
    "# Select North Atlantic region\n",
    "hadisst = xr_select_region(hadisst, [-100, 10, 0, 90])\n",
    "cobesst = xr_select_region(cobesst, [-100, 10, 0, 90])\n",
    "\n",
    "\n",
    "# Save datasets\n",
    "hadisst.sst.to_netcdf('/Users/iriskeizer/Documents/Wind effect/Data/observations/SST/hadisst_processed.nc')\n",
    "cobesst.sst.to_netcdf('/Users/iriskeizer/Documents/Wind effect/Data/observations/SST/cobesst_processed.nc')\n",
    "\n"
   ]
  },
  {
   "cell_type": "code",
   "execution_count": null,
   "id": "1b05632e-3162-48a1-99d8-d408fec0c276",
   "metadata": {},
   "outputs": [],
   "source": []
  }
 ],
 "metadata": {
  "kernelspec": {
   "display_name": "Python 3 (ipykernel)",
   "language": "python",
   "name": "python3"
  },
  "language_info": {
   "codemirror_mode": {
    "name": "ipython",
    "version": 3
   },
   "file_extension": ".py",
   "mimetype": "text/x-python",
   "name": "python",
   "nbconvert_exporter": "python",
   "pygments_lexer": "ipython3",
   "version": "3.9.7"
  }
 },
 "nbformat": 4,
 "nbformat_minor": 5
}
